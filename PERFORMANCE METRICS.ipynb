{
 "cells": [
  {
   "cell_type": "markdown",
   "metadata": {
    "id": "s0Ej_bXyQvnV"
   },
   "source": [
    "# Compute performance metrics for the given Y and Y_score without sklearn"
   ]
  },
  {
   "cell_type": "code",
   "execution_count": 1,
   "metadata": {
    "id": "4CHb6NE7Qvnc"
   },
   "outputs": [],
   "source": [
    "import numpy as np\n",
    "import pandas as pd\n",
    "# other than these two you should not import any other packages"
   ]
  },
  {
   "cell_type": "markdown",
   "metadata": {
    "id": "KbsWXuDaQvnq"
   },
   "source": [
    "\n",
    "## A. Compute performance metrics for the given data '5_a.csv'\n",
    " <pre>  <b>Note 1:</b> in this data you can see number of positive points >> number of negatives points\n",
    "   <b>Note 2:</b> use pandas or numpy to read the data from <b>5_a.csv</b>\n",
    "   <b>Note 3:</b> you need to derive the class labels from given score</pre> $y^{pred}= \\text{[0 if y_score < 0.5 else 1]}$\n",
    "\n",
    "<pre>\n",
    "<ol>\n",
    "<li> Compute Confusion Matrix </li>\n",
    "<li> Compute F1 Score </li>\n",
    "<li> Compute AUC Score, you need to compute different thresholds and for each threshold compute tpr,fpr and then use               numpy.trapz(tpr_array, fpr_array) <a href='https://stackoverflow.com/q/53603376/4084039'>https://stackoverflow.com/q/53603376/4084039</a>, <a href='https://stackoverflow.com/a/39678975/4084039'>https://stackoverflow.com/a/39678975/4084039</a> Note: it should be numpy.trapz(tpr_array, fpr_array) not numpy.trapz(fpr_array, tpr_array)\n",
    "Note- Make sure that you arrange your probability scores in descending order while calculating AUC</li>\n",
    "<li> Compute Accuracy Score </li>\n",
    "</ol>\n",
    "</pre>"
   ]
  },
  {
   "cell_type": "code",
   "execution_count": 2,
   "metadata": {
    "id": "WaFLW7oBQvnt"
   },
   "outputs": [
    {
     "data": {
      "text/html": [
       "<div>\n",
       "<style scoped>\n",
       "    .dataframe tbody tr th:only-of-type {\n",
       "        vertical-align: middle;\n",
       "    }\n",
       "\n",
       "    .dataframe tbody tr th {\n",
       "        vertical-align: top;\n",
       "    }\n",
       "\n",
       "    .dataframe thead th {\n",
       "        text-align: right;\n",
       "    }\n",
       "</style>\n",
       "<table border=\"1\" class=\"dataframe\">\n",
       "  <thead>\n",
       "    <tr style=\"text-align: right;\">\n",
       "      <th></th>\n",
       "      <th>y</th>\n",
       "      <th>proba</th>\n",
       "    </tr>\n",
       "  </thead>\n",
       "  <tbody>\n",
       "    <tr>\n",
       "      <th>0</th>\n",
       "      <td>1.0</td>\n",
       "      <td>0.637387</td>\n",
       "    </tr>\n",
       "    <tr>\n",
       "      <th>1</th>\n",
       "      <td>1.0</td>\n",
       "      <td>0.635165</td>\n",
       "    </tr>\n",
       "    <tr>\n",
       "      <th>2</th>\n",
       "      <td>1.0</td>\n",
       "      <td>0.766586</td>\n",
       "    </tr>\n",
       "    <tr>\n",
       "      <th>3</th>\n",
       "      <td>1.0</td>\n",
       "      <td>0.724564</td>\n",
       "    </tr>\n",
       "    <tr>\n",
       "      <th>4</th>\n",
       "      <td>1.0</td>\n",
       "      <td>0.889199</td>\n",
       "    </tr>\n",
       "  </tbody>\n",
       "</table>\n",
       "</div>"
      ],
      "text/plain": [
       "     y     proba\n",
       "0  1.0  0.637387\n",
       "1  1.0  0.635165\n",
       "2  1.0  0.766586\n",
       "3  1.0  0.724564\n",
       "4  1.0  0.889199"
      ]
     },
     "execution_count": 2,
     "metadata": {},
     "output_type": "execute_result"
    }
   ],
   "source": [
    "df_a=pd.read_csv('5_a.csv')\n",
    "df_a.head()"
   ]
  },
  {
   "cell_type": "code",
   "execution_count": 5,
   "metadata": {
    "id": "yg8uUJvGAfCM"
   },
   "outputs": [
    {
     "name": "stdout",
     "output_type": "stream",
     "text": [
      "         y     proba  pred\n",
      "0      1.0  0.637387     1\n",
      "1      1.0  0.635165     1\n",
      "2      1.0  0.766586     1\n",
      "3      1.0  0.724564     1\n",
      "4      1.0  0.889199     1\n",
      "...    ...       ...   ...\n",
      "10095  1.0  0.665371     1\n",
      "10096  1.0  0.607961     1\n",
      "10097  1.0  0.777724     1\n",
      "10098  1.0  0.846036     1\n",
      "10099  1.0  0.679507     1\n",
      "\n",
      "[10100 rows x 3 columns]\n"
     ]
    }
   ],
   "source": [
    "# write your code here for task A\n",
    "df_a['pred'] = np.where(df_a['proba']<0.5,0,1) #https://numpy.org/doc/stable/reference/generated/numpy.where.html\n",
    "                                               #https://stackoverflow.com/questions/19913659/pandas-conditional-creation-of-a-series-dataframe-column\n",
    "#if the probability is greater than 0.5 pred value = 1\n",
    "#else pred value = 0\n",
    "print(df_a)"
   ]
  },
  {
   "cell_type": "code",
   "execution_count": 6,
   "metadata": {},
   "outputs": [
    {
     "name": "stdout",
     "output_type": "stream",
     "text": [
      "TURE  POSITIVE =  10000\n",
      "TURE  NEGATIVE =  0\n",
      "FALSE POSITIVE =  100\n",
      "FLASE NEGATIVE =  0\n"
     ]
    }
   ],
   "source": [
    "#https://stackoverflow.com/questions/65235826/how-to-compare-2-columns-values-and-get-the-count-of-pairs-of-matches-in-python\n",
    "#TP : if y = 1 and pred = 1 -> TRUE POSITIVE\n",
    "tp_a = len(df_a[(df_a[\"y\"] == 1) & (df_a[\"pred\"] == 1)])\n",
    "#TN : if y = 0 and pred = 0 -> TRUE NEGATIVE\n",
    "tn_a = len(df_a[(df_a[\"y\"] == 0) & (df_a[\"pred\"] == 0)])\n",
    "#FP : if y = 0 and pred = 1 -> FALSE POSITIVE\n",
    "fp_a = len(df_a[(df_a[\"y\"] == 0) & (df_a[\"pred\"] == 1)])\n",
    "#FN : if y = 1 and pred = 0 -> FALSE NEGATIVE\n",
    "fn_a = len(df_a[(df_a[\"y\"] == 1) & (df_a[\"pred\"] == 0)])\n",
    "print(\"TURE  POSITIVE = \",tp_a)\n",
    "print(\"TURE  NEGATIVE = \",tn_a)\n",
    "print(\"FALSE POSITIVE = \",fp_a)\n",
    "print(\"FLASE NEGATIVE = \",fn_a)"
   ]
  },
  {
   "cell_type": "code",
   "execution_count": 7,
   "metadata": {},
   "outputs": [
    {
     "name": "stdout",
     "output_type": "stream",
     "text": [
      "CONFUSION MATRIX:\n",
      "\n",
      "[[10000.   100.]\n",
      " [    0.     0.]]\n"
     ]
    }
   ],
   "source": [
    "#Confusion matrix:\n",
    "# TP FP\n",
    "# FN TN\n",
    "s = (2,2) #https://numpy.org/doc/stable/reference/generated/numpy.zeros.html\n",
    "confusion_matrix_a = np.zeros(s)\n",
    "confusion_matrix_a[0,0] = tp_a #true positive\n",
    "confusion_matrix_a[0,1] = fp_a #false positive\n",
    "confusion_matrix_a[1,0] = fn_a #false negative\n",
    "confusion_matrix_a[1,1] = tn_a #true negative\n",
    "print(\"CONFUSION MATRIX:\\n\")\n",
    "print(confusion_matrix_a)\n"
   ]
  },
  {
   "cell_type": "code",
   "execution_count": 8,
   "metadata": {},
   "outputs": [
    {
     "name": "stdout",
     "output_type": "stream",
     "text": [
      "Precision =  0.9900990099009901\n",
      "Recall =  1.0\n",
      "F1 Score =  0.9950248756218906\n"
     ]
    }
   ],
   "source": [
    "#Precision : of all the points that are predicted to be positive, how many are actually positive\n",
    "#Precision = TP/(TP+FP)\n",
    "#Recall : of all the positive points, how many are recalled as positive\n",
    "#Recall = TP/(TP+FN)\n",
    "#F1 score : harmonic mean of precision and recall\n",
    "#F1_score = 2*Precision*Recall/(Precision+Recall)\n",
    "Precision_a = tp_a/(tp_a+fp_a)\n",
    "Recall_a = tp_a/(tp_a+fn_a)\n",
    "f1_score_a = 2*Precision_a*Recall_a/(Precision_a+Recall_a)\n",
    "print(\"Precision = \",Precision_a)\n",
    "print(\"Recall = \",Recall_a)\n",
    "print(\"F1 Score = \",f1_score_a)\n",
    "\n"
   ]
  },
  {
   "cell_type": "code",
   "execution_count": 9,
   "metadata": {
    "scrolled": true
   },
   "outputs": [
    {
     "name": "stdout",
     "output_type": "stream",
     "text": [
      "         y     proba  pred  0  1  2  3  4  5  6  ...  10090  10091  10092  \\\n",
      "0      1.0  0.637387     1  0  0  0  0  0  0  0  ...      1      1      1   \n",
      "1      1.0  0.635165     1  0  0  0  0  0  0  0  ...      1      1      1   \n",
      "2      1.0  0.766586     1  0  0  0  0  0  0  0  ...      1      1      1   \n",
      "3      1.0  0.724564     1  0  0  0  0  0  0  0  ...      1      1      1   \n",
      "4      1.0  0.889199     1  0  0  0  0  0  0  0  ...      1      1      1   \n",
      "...    ...       ...   ... .. .. .. .. .. .. ..  ...    ...    ...    ...   \n",
      "10095  1.0  0.665371     1  0  0  0  0  0  0  0  ...      1      1      1   \n",
      "10096  1.0  0.607961     1  0  0  0  0  0  0  0  ...      1      1      1   \n",
      "10097  1.0  0.777724     1  0  0  0  0  0  0  0  ...      1      1      1   \n",
      "10098  1.0  0.846036     1  0  0  0  0  0  0  0  ...      1      1      1   \n",
      "10099  1.0  0.679507     1  0  0  0  0  0  0  0  ...      1      1      1   \n",
      "\n",
      "       10093  10094  10095  10096  10097  10098  10099  \n",
      "0          1      1      1      1      1      1      1  \n",
      "1          1      1      1      1      1      1      1  \n",
      "2          1      1      1      1      1      1      1  \n",
      "3          1      1      1      1      1      1      1  \n",
      "4          1      1      1      1      1      1      1  \n",
      "...      ...    ...    ...    ...    ...    ...    ...  \n",
      "10095      1      1      1      1      1      1      1  \n",
      "10096      1      1      1      1      1      1      1  \n",
      "10097      1      1      1      1      1      1      1  \n",
      "10098      1      1      1      1      1      1      1  \n",
      "10099      1      1      1      1      1      1      1  \n",
      "\n",
      "[10100 rows x 10103 columns]\n"
     ]
    }
   ],
   "source": [
    "#ROC-AUC\n",
    "threshold_a = list(df_a[\"proba\"])\n",
    "# https://www.programiz.com/python-programming/methods/list/sort\n",
    "threshold_a.sort(reverse=True)  #sorting thresholds in descending order\n",
    "for i in range(len(threshold_a)):\n",
    "    df_a[i] = np.where(df_a[\"proba\"]>threshold_a[i],1,0) \n",
    "print(df_a)"
   ]
  },
  {
   "cell_type": "code",
   "execution_count": 10,
   "metadata": {},
   "outputs": [],
   "source": [
    "#TRUE POSITIVE : actual = 1, predicted = 1\n",
    "#FALSE POSITIVE: actual = 0, predicted = 1\n",
    "#TRUE NEGATIVE : actual = 0, predicted = 0\n",
    "#FALSE NEGATIVE: acutal = 1, predicted = 0\n",
    "tp_list_a = []\n",
    "fp_list_a = []\n",
    "fn_list_a = []\n",
    "\n",
    "for i in range(len(threshold_a)):\n",
    "    tp_ai = len(df_a[(df_a[\"y\"] == 1) & (df_a[i] == 1)])\n",
    "    fp_ai = len(df_a[(df_a[\"y\"] == 0) & (df_a[i] == 1)])\n",
    "    fn_ai = len(df_a[(df_a[\"y\"] == 1) & (df_a[i] == 0)])\n",
    "    tp_list_a.append(tp_ai)\n",
    "    fp_list_a.append(fp_ai)\n",
    "    fn_list_a.append(fn_ai)"
   ]
  },
  {
   "cell_type": "code",
   "execution_count": 19,
   "metadata": {},
   "outputs": [],
   "source": [
    "#TRUE POSITIVE RATE : TPR = TP/(TP+FN)\n",
    "#FALSE POSITIVE RATE: FPR = FP/(TP+FN)\n",
    "tpr_list_a = []\n",
    "fpr_list_a = []\n",
    "for j in range(len(tp_list_a)):\n",
    "    tpr_a = tp_list_a[j]/(tp_list_a[j] + fn_list_a[j]) #TPR\n",
    "    fpr_a = fp_list_a[j]*100/(tp_list_a[j] + fn_list_a[j]) #FPR\n",
    "    tpr_list_a.append(tpr_a)\n",
    "    fpr_list_a.append(fpr_a)\n"
   ]
  },
  {
   "cell_type": "code",
   "execution_count": 20,
   "metadata": {},
   "outputs": [
    {
     "data": {
      "image/png": "[encoded data removed]",
      "text/plain": [
       "<Figure size 432x288 with 1 Axes>"
      ]
     },
     "metadata": {
      "needs_background": "light"
     },
     "output_type": "display_data"
    }
   ],
   "source": [
    "import matplotlib.pyplot as plt\n",
    "plt.plot(fpr_list_a,tpr_list_a)\n",
    "plt.xlabel(\"FALSE POSITIVE RATE(FPR)\")\n",
    "plt.ylabel(\"TRUE POSITIVE RATE(TPR)\")\n",
    "plt.title(\"ROC CURVE\")\n",
    "plt.show()"
   ]
  },
  {
   "cell_type": "code",
   "execution_count": 21,
   "metadata": {},
   "outputs": [
    {
     "name": "stdout",
     "output_type": "stream",
     "text": [
      "AREA UNDER CURVE =  0.48829900000000004\n"
     ]
    }
   ],
   "source": [
    "auc = np.trapz(tpr_list_a,fpr_list_a)\n",
    "print(\"AREA UNDER CURVE = \",auc)"
   ]
  },
  {
   "cell_type": "code",
   "execution_count": 23,
   "metadata": {},
   "outputs": [
    {
     "name": "stdout",
     "output_type": "stream",
     "text": [
      "Accuracy =  0.9900990099009901\n",
      "Accuracy % = 99.00990099009901 %\n",
      "Accuracy from confusion matrix = 0.9900990099009901\n",
      "Accuracy from confusion matrix % 99.00990099009901 %\n"
     ]
    }
   ],
   "source": [
    "#Accuracy Score : ratio of no. of correctly classified points by total no. of points\n",
    "total_points = len(df_a)\n",
    "correctly_classified_points = len(df_a[df_a[\"y\"] == df_a[\"pred\"]])\n",
    "accuracy = correctly_classified_points/total_points\n",
    "print(\"Accuracy = \",accuracy)\n",
    "print(\"Accuracy % =\",accuracy*100,\"%\")\n",
    "#Accuracy from confusion matrix\n",
    "accuracy_cm = (tp_a+tn_a)/(tp_a+tn_a+fp_a+fn_a)\n",
    "print(\"Accuracy from confusion matrix =\",accuracy_cm)\n",
    "print(\"Accuracy from confusion matrix %\",accuracy_cm*100,\"%\")"
   ]
  },
  {
   "cell_type": "markdown",
   "metadata": {
    "id": "V5KZem1BQvn2"
   },
   "source": [
    "\n",
    "\n",
    "## B. Compute performance metrics for the given data '5_b.csv'\n",
    "<pre>\n",
    "   <b>Note 1:</b> in this data you can see number of positive points << number of negatives points\n",
    "   <b>Note 2:</b> use pandas or numpy to read the data from <b>5_b.csv</b>\n",
    "   <b>Note 3:</b> you need to derive the class labels from given score</pre> $y^{pred}= \\text{[0 if y_score < 0.5 else 1]}$\n",
    "\n",
    "<pre>\n",
    "<ol>\n",
    "<li> Compute Confusion Matrix </li>\n",
    "<li> Compute F1 Score </li>\n",
    "<li> Compute AUC Score, you need to compute different thresholds and for each threshold compute tpr,fpr and then use               numpy.trapz(tpr_array, fpr_array) <a href='https://stackoverflow.com/q/53603376/4084039'>https://stackoverflow.com/q/53603376/4084039</a>, <a href='https://stackoverflow.com/a/39678975/4084039'>https://stackoverflow.com/a/39678975/4084039</a>\n",
    "Note- Make sure that you arrange your probability scores in descending order while calculating AUC</li>\n",
    "<li> Compute Accuracy Score </li>\n",
    "</ol>\n",
    "</pre>"
   ]
  },
  {
   "cell_type": "code",
   "execution_count": 21,
   "metadata": {
    "id": "U2sKlq0YQvn5"
   },
   "outputs": [
    {
     "data": {
      "text/html": [
       "<div>\n",
       "<style scoped>\n",
       "    .dataframe tbody tr th:only-of-type {\n",
       "        vertical-align: middle;\n",
       "    }\n",
       "\n",
       "    .dataframe tbody tr th {\n",
       "        vertical-align: top;\n",
       "    }\n",
       "\n",
       "    .dataframe thead th {\n",
       "        text-align: right;\n",
       "    }\n",
       "</style>\n",
       "<table border=\"1\" class=\"dataframe\">\n",
       "  <thead>\n",
       "    <tr style=\"text-align: right;\">\n",
       "      <th></th>\n",
       "      <th>y</th>\n",
       "      <th>proba</th>\n",
       "    </tr>\n",
       "  </thead>\n",
       "  <tbody>\n",
       "    <tr>\n",
       "      <th>0</th>\n",
       "      <td>0.0</td>\n",
       "      <td>0.281035</td>\n",
       "    </tr>\n",
       "    <tr>\n",
       "      <th>1</th>\n",
       "      <td>0.0</td>\n",
       "      <td>0.465152</td>\n",
       "    </tr>\n",
       "    <tr>\n",
       "      <th>2</th>\n",
       "      <td>0.0</td>\n",
       "      <td>0.352793</td>\n",
       "    </tr>\n",
       "    <tr>\n",
       "      <th>3</th>\n",
       "      <td>0.0</td>\n",
       "      <td>0.157818</td>\n",
       "    </tr>\n",
       "    <tr>\n",
       "      <th>4</th>\n",
       "      <td>0.0</td>\n",
       "      <td>0.276648</td>\n",
       "    </tr>\n",
       "  </tbody>\n",
       "</table>\n",
       "</div>"
      ],
      "text/plain": [
       "     y     proba\n",
       "0  0.0  0.281035\n",
       "1  0.0  0.465152\n",
       "2  0.0  0.352793\n",
       "3  0.0  0.157818\n",
       "4  0.0  0.276648"
      ]
     },
     "execution_count": 21,
     "metadata": {},
     "output_type": "execute_result"
    }
   ],
   "source": [
    "df_b=pd.read_csv('5_b.csv')\n",
    "df_b.head()"
   ]
  },
  {
   "cell_type": "code",
   "execution_count": 25,
   "metadata": {
    "id": "xlLVa-cVAfCS"
   },
   "outputs": [
    {
     "data": {
      "text/html": [
       "<div>\n",
       "<style scoped>\n",
       "    .dataframe tbody tr th:only-of-type {\n",
       "        vertical-align: middle;\n",
       "    }\n",
       "\n",
       "    .dataframe tbody tr th {\n",
       "        vertical-align: top;\n",
       "    }\n",
       "\n",
       "    .dataframe thead th {\n",
       "        text-align: right;\n",
       "    }\n",
       "</style>\n",
       "<table border=\"1\" class=\"dataframe\">\n",
       "  <thead>\n",
       "    <tr style=\"text-align: right;\">\n",
       "      <th></th>\n",
       "      <th>y</th>\n",
       "      <th>proba</th>\n",
       "      <th>pred</th>\n",
       "    </tr>\n",
       "  </thead>\n",
       "  <tbody>\n",
       "    <tr>\n",
       "      <th>0</th>\n",
       "      <td>0.0</td>\n",
       "      <td>0.281035</td>\n",
       "      <td>0</td>\n",
       "    </tr>\n",
       "    <tr>\n",
       "      <th>1</th>\n",
       "      <td>0.0</td>\n",
       "      <td>0.465152</td>\n",
       "      <td>0</td>\n",
       "    </tr>\n",
       "    <tr>\n",
       "      <th>2</th>\n",
       "      <td>0.0</td>\n",
       "      <td>0.352793</td>\n",
       "      <td>0</td>\n",
       "    </tr>\n",
       "    <tr>\n",
       "      <th>3</th>\n",
       "      <td>0.0</td>\n",
       "      <td>0.157818</td>\n",
       "      <td>0</td>\n",
       "    </tr>\n",
       "    <tr>\n",
       "      <th>4</th>\n",
       "      <td>0.0</td>\n",
       "      <td>0.276648</td>\n",
       "      <td>0</td>\n",
       "    </tr>\n",
       "    <tr>\n",
       "      <th>...</th>\n",
       "      <td>...</td>\n",
       "      <td>...</td>\n",
       "      <td>...</td>\n",
       "    </tr>\n",
       "    <tr>\n",
       "      <th>10095</th>\n",
       "      <td>0.0</td>\n",
       "      <td>0.474401</td>\n",
       "      <td>0</td>\n",
       "    </tr>\n",
       "    <tr>\n",
       "      <th>10096</th>\n",
       "      <td>0.0</td>\n",
       "      <td>0.128403</td>\n",
       "      <td>0</td>\n",
       "    </tr>\n",
       "    <tr>\n",
       "      <th>10097</th>\n",
       "      <td>0.0</td>\n",
       "      <td>0.499331</td>\n",
       "      <td>0</td>\n",
       "    </tr>\n",
       "    <tr>\n",
       "      <th>10098</th>\n",
       "      <td>0.0</td>\n",
       "      <td>0.157616</td>\n",
       "      <td>0</td>\n",
       "    </tr>\n",
       "    <tr>\n",
       "      <th>10099</th>\n",
       "      <td>0.0</td>\n",
       "      <td>0.296618</td>\n",
       "      <td>0</td>\n",
       "    </tr>\n",
       "  </tbody>\n",
       "</table>\n",
       "<p>10100 rows × 3 columns</p>\n",
       "</div>"
      ],
      "text/plain": [
       "         y     proba  pred\n",
       "0      0.0  0.281035     0\n",
       "1      0.0  0.465152     0\n",
       "2      0.0  0.352793     0\n",
       "3      0.0  0.157818     0\n",
       "4      0.0  0.276648     0\n",
       "...    ...       ...   ...\n",
       "10095  0.0  0.474401     0\n",
       "10096  0.0  0.128403     0\n",
       "10097  0.0  0.499331     0\n",
       "10098  0.0  0.157616     0\n",
       "10099  0.0  0.296618     0\n",
       "\n",
       "[10100 rows x 3 columns]"
      ]
     },
     "execution_count": 25,
     "metadata": {},
     "output_type": "execute_result"
    }
   ],
   "source": [
    "# write your code here for task B\n",
    "df_b[\"pred\"] = np.where(df_b[\"proba\"]<0.5,0,1)\n",
    "df_b"
   ]
  },
  {
   "cell_type": "code",
   "execution_count": 26,
   "metadata": {},
   "outputs": [
    {
     "name": "stdout",
     "output_type": "stream",
     "text": [
      "TURE  POSITIVE =  55\n",
      "TURE  NEGATIVE =  9761\n",
      "FALSE POSITIVE =  239\n",
      "FLASE NEGATIVE =  45\n"
     ]
    }
   ],
   "source": [
    "#TP : if y = 1 and pred = 1 -> TRUE POSITIVE\n",
    "tp_b = len(df_b[(df_b[\"y\"] == 1) & (df_b[\"pred\"] == 1)])\n",
    "#TN : if y = 0 and pred = 0 -> TRUE NEGATIVE\n",
    "tn_b = len(df_b[(df_b[\"y\"] == 0) & (df_b[\"pred\"] == 0)])\n",
    "#FP : if y = 0 and pred = 1 -> FALSE POSITIVE\n",
    "fp_b = len(df_b[(df_b[\"y\"] == 0) & (df_b[\"pred\"] == 1)])\n",
    "#FN : if y = 1 and pred = 0 -> FALSE NEGATIVE\n",
    "fn_b = len(df_b[(df_b[\"y\"] == 1) & (df_b[\"pred\"] == 0)])\n",
    "print(\"TURE  POSITIVE = \",tp_b)\n",
    "print(\"TURE  NEGATIVE = \",tn_b)\n",
    "print(\"FALSE POSITIVE = \",fp_b)\n",
    "print(\"FLASE NEGATIVE = \",fn_b)"
   ]
  },
  {
   "cell_type": "code",
   "execution_count": 27,
   "metadata": {},
   "outputs": [
    {
     "name": "stdout",
     "output_type": "stream",
     "text": [
      "CONFUSION MATRIX:\n",
      "\n",
      "[[  55.  239.]\n",
      " [  45. 9761.]]\n"
     ]
    }
   ],
   "source": [
    "s = (2,2) #https://numpy.org/doc/stable/reference/generated/numpy.zeros.html\n",
    "confusion_matrix_b = np.zeros(s)\n",
    "confusion_matrix_b[0,0] = tp_b #true positive\n",
    "confusion_matrix_b[0,1] = fp_b #false positive\n",
    "confusion_matrix_b[1,0] = fn_b #false negative\n",
    "confusion_matrix_b[1,1] = tn_b #true negative\n",
    "print(\"CONFUSION MATRIX:\\n\")\n",
    "print(confusion_matrix_b)"
   ]
  },
  {
   "cell_type": "code",
   "execution_count": 28,
   "metadata": {},
   "outputs": [
    {
     "name": "stdout",
     "output_type": "stream",
     "text": [
      "Precision =  0.1870748299319728\n",
      "Recall =  0.55\n",
      "F1 Score =  0.2791878172588833\n"
     ]
    }
   ],
   "source": [
    "#Precision : of all the points that are predicted to be positive, how many are actually positive\n",
    "#Precision = TP/(TP+FP)\n",
    "#Recall : of all the positive points, how many are recalled as positive\n",
    "#Recall = TP/(TP+FN)\n",
    "#F1 score : harmonic mean of precision and recall\n",
    "#F1_score = 2*Precision*Recall/(Precision+Recall)\n",
    "Precision_b = tp_b/(tp_b+fp_b)\n",
    "Recall_b = tp_b/(tp_b+fn_b)\n",
    "f1_score_b = 2*Precision_b*Recall_b/(Precision_b+Recall_b)\n",
    "print(\"Precision = \",Precision_b)\n",
    "print(\"Recall = \",Recall_b)\n",
    "print(\"F1 Score = \",f1_score_b)"
   ]
  },
  {
   "cell_type": "code",
   "execution_count": 29,
   "metadata": {},
   "outputs": [
    {
     "name": "stdout",
     "output_type": "stream",
     "text": [
      "         y     proba  pred  0  1  2  3  4  5  6  ...  10090  10091  10092  \\\n",
      "0      0.0  0.281035     0  0  0  0  0  0  0  0  ...      1      1      1   \n",
      "1      0.0  0.465152     0  0  0  0  0  0  0  0  ...      1      1      1   \n",
      "2      0.0  0.352793     0  0  0  0  0  0  0  0  ...      1      1      1   \n",
      "3      0.0  0.157818     0  0  0  0  0  0  0  0  ...      1      1      1   \n",
      "4      0.0  0.276648     0  0  0  0  0  0  0  0  ...      1      1      1   \n",
      "...    ...       ...   ... .. .. .. .. .. .. ..  ...    ...    ...    ...   \n",
      "10095  0.0  0.474401     0  0  0  0  0  0  0  0  ...      1      1      1   \n",
      "10096  0.0  0.128403     0  0  0  0  0  0  0  0  ...      1      1      1   \n",
      "10097  0.0  0.499331     0  0  0  0  0  0  0  0  ...      1      1      1   \n",
      "10098  0.0  0.157616     0  0  0  0  0  0  0  0  ...      1      1      1   \n",
      "10099  0.0  0.296618     0  0  0  0  0  0  0  0  ...      1      1      1   \n",
      "\n",
      "       10093  10094  10095  10096  10097  10098  10099  \n",
      "0          1      1      1      1      1      1      1  \n",
      "1          1      1      1      1      1      1      1  \n",
      "2          1      1      1      1      1      1      1  \n",
      "3          1      1      1      1      1      1      1  \n",
      "4          1      1      1      1      1      1      1  \n",
      "...      ...    ...    ...    ...    ...    ...    ...  \n",
      "10095      1      1      1      1      1      1      1  \n",
      "10096      1      1      1      1      1      1      1  \n",
      "10097      1      1      1      1      1      1      1  \n",
      "10098      1      1      1      1      1      1      1  \n",
      "10099      1      1      1      1      1      1      1  \n",
      "\n",
      "[10100 rows x 10103 columns]\n"
     ]
    }
   ],
   "source": [
    "#ROC-AUC\n",
    "threshold = list(df_b[\"proba\"])\n",
    "# https://www.programiz.com/python-programming/methods/list/sort\n",
    "threshold.sort(reverse=True)  #sorting thresholds in descending order\n",
    "for i in range(len(threshold)):\n",
    "    df_b[i] = np.where(df_b[\"proba\"]>threshold[i],1,0) \n",
    "print(df_b)"
   ]
  },
  {
   "cell_type": "code",
   "execution_count": 31,
   "metadata": {},
   "outputs": [],
   "source": [
    "#TRUE POSITIVE : actual = 1, predicted = 1\n",
    "#FALSE POSITIVE: actual = 0, predicted = 1\n",
    "#TRUE NEGATIVE : actual = 0, predicted = 0\n",
    "#FALSE NEGATIVE: acutal = 1, predicted = 0\n",
    "tp_list = []\n",
    "fp_list = []\n",
    "fn_list = []\n",
    "\n",
    "for i in range(len(threshold)):\n",
    "    tp = len(df_b[(df_b[\"y\"] == 1) & (df_b[i] == 1)])\n",
    "    fp = len(df_b[(df_b[\"y\"] == 0) & (df_b[i] == 1)])\n",
    "    fn = len(df_b[(df_b[\"y\"] == 1) & (df_b[i] == 0)])\n",
    "    tp_list.append(tp)\n",
    "    fp_list.append(fp)\n",
    "    fn_list.append(fn)"
   ]
  },
  {
   "cell_type": "code",
   "execution_count": 41,
   "metadata": {},
   "outputs": [],
   "source": [
    "#TRUE POSITIVE RATE : TPR = TP/(TP+FN)\n",
    "#FALSE POSITIVE RATE: FPR = FP/(TP+FN)\n",
    "tpr_list_b = []\n",
    "fpr_list_b = []\n",
    "for j in range(len(tp_list)):\n",
    "    tpr = tp_list[j]/(tp_list[j] + fn_list[j]) #TPR\n",
    "    fpr = fp_list[j]*0.01/(tp_list[j] + fn_list[j]) #FPR\n",
    "    tpr_list_b.append(tpr)\n",
    "    fpr_list_b.append(fpr)\n"
   ]
  },
  {
   "cell_type": "code",
   "execution_count": 42,
   "metadata": {},
   "outputs": [
    {
     "data": {
      "image/png": "[encoded data removed]",
      "text/plain": [
       "<Figure size 432x288 with 1 Axes>"
      ]
     },
     "metadata": {
      "needs_background": "light"
     },
     "output_type": "display_data"
    }
   ],
   "source": [
    "import matplotlib.pyplot as plt\n",
    "plt.plot(fpr_list_b,tpr_list_b)\n",
    "plt.xlabel(\"FALSE POSITIVE RATE(FPR)\")\n",
    "plt.ylabel(\"TRUE POSITIVE RATE(TPR)\")\n",
    "plt.title(\"ROC CURVE\")\n",
    "plt.show()\n"
   ]
  },
  {
   "cell_type": "code",
   "execution_count": 43,
   "metadata": {},
   "outputs": [
    {
     "name": "stdout",
     "output_type": "stream",
     "text": [
      "AREA UNDER CURVE =  0.9376570000000002\n"
     ]
    }
   ],
   "source": [
    "auc = np.trapz(tpr_list_b,fpr_list_b)\n",
    "print(\"AREA UNDER CURVE = \",auc)"
   ]
  },
  {
   "cell_type": "code",
   "execution_count": 13,
   "metadata": {},
   "outputs": [
    {
     "name": "stdout",
     "output_type": "stream",
     "text": [
      "Accuracy =  1.0\n",
      "Accuracy % = 100.0 %\n",
      "Accuracy from confusion matrix = 1.0\n",
      "Accuracy from confusion matrix % 100.0 %\n"
     ]
    }
   ],
   "source": [
    "#Accuracy Score : ratio of no. of correctly classified points by total no. of points\n",
    "total_points_b = len(df_b)\n",
    "correctly_classified_points_b = len(df_b[df_b[\"y\"] == df_b[\"pred\"]])\n",
    "accuracy_b = correctly_classified_points_b/total_points_b\n",
    "print(\"Accuracy = \",accuracy_b)\n",
    "print(\"Accuracy % =\",accuracy_b*100,\"%\")\n",
    "#Accuracy from confusion matrix\n",
    "accuracy_cm_b = (tp_b+tn_b)/(tp_b+tn_b+fp_b+fn_b)\n",
    "print(\"Accuracy from confusion matrix =\",accuracy_cm_b)\n",
    "print(\"Accuracy from confusion matrix %\",accuracy_cm_b*100,\"%\")"
   ]
  },
  {
   "cell_type": "markdown",
   "metadata": {
    "id": "GiPGonTzQvoB"
   },
   "source": [
    "### C. Compute the best threshold (similarly to ROC curve computation) of probability which gives lowest values of metric <b>A</b> for the given data \n",
    "<br>\n",
    "\n",
    "you will be predicting label of a data points like this: $y^{pred}= \\text{[0 if y_score < threshold  else 1]}$\n",
    "\n",
    "$ A = 500 \\times \\text{number of false negative} + 100 \\times \\text{numebr of false positive}$\n",
    "\n",
    "<pre>\n",
    "   <b>Note 1:</b> in this data you can see number of negative points > number of positive points\n",
    "   <b>Note 2:</b> use pandas or numpy to read the data from <b>5_c.csv</b>\n",
    "</pre>"
   ]
  },
  {
   "cell_type": "code",
   "execution_count": 24,
   "metadata": {
    "id": "x5HIJzq1QvoE"
   },
   "outputs": [
    {
     "data": {
      "text/html": [
       "<div>\n",
       "<style scoped>\n",
       "    .dataframe tbody tr th:only-of-type {\n",
       "        vertical-align: middle;\n",
       "    }\n",
       "\n",
       "    .dataframe tbody tr th {\n",
       "        vertical-align: top;\n",
       "    }\n",
       "\n",
       "    .dataframe thead th {\n",
       "        text-align: right;\n",
       "    }\n",
       "</style>\n",
       "<table border=\"1\" class=\"dataframe\">\n",
       "  <thead>\n",
       "    <tr style=\"text-align: right;\">\n",
       "      <th></th>\n",
       "      <th>y</th>\n",
       "      <th>prob</th>\n",
       "    </tr>\n",
       "  </thead>\n",
       "  <tbody>\n",
       "    <tr>\n",
       "      <th>0</th>\n",
       "      <td>0</td>\n",
       "      <td>0.458521</td>\n",
       "    </tr>\n",
       "    <tr>\n",
       "      <th>1</th>\n",
       "      <td>0</td>\n",
       "      <td>0.505037</td>\n",
       "    </tr>\n",
       "    <tr>\n",
       "      <th>2</th>\n",
       "      <td>0</td>\n",
       "      <td>0.418652</td>\n",
       "    </tr>\n",
       "    <tr>\n",
       "      <th>3</th>\n",
       "      <td>0</td>\n",
       "      <td>0.412057</td>\n",
       "    </tr>\n",
       "    <tr>\n",
       "      <th>4</th>\n",
       "      <td>0</td>\n",
       "      <td>0.375579</td>\n",
       "    </tr>\n",
       "  </tbody>\n",
       "</table>\n",
       "</div>"
      ],
      "text/plain": [
       "   y      prob\n",
       "0  0  0.458521\n",
       "1  0  0.505037\n",
       "2  0  0.418652\n",
       "3  0  0.412057\n",
       "4  0  0.375579"
      ]
     },
     "execution_count": 24,
     "metadata": {},
     "output_type": "execute_result"
    }
   ],
   "source": [
    "df_c=pd.read_csv('5_c.csv')\n",
    "df_c.head()\n"
   ]
  },
  {
   "cell_type": "code",
   "execution_count": 25,
   "metadata": {
    "id": "eAPjewjzAfCa"
   },
   "outputs": [
    {
     "data": {
      "text/html": [
       "<div>\n",
       "<style scoped>\n",
       "    .dataframe tbody tr th:only-of-type {\n",
       "        vertical-align: middle;\n",
       "    }\n",
       "\n",
       "    .dataframe tbody tr th {\n",
       "        vertical-align: top;\n",
       "    }\n",
       "\n",
       "    .dataframe thead th {\n",
       "        text-align: right;\n",
       "    }\n",
       "</style>\n",
       "<table border=\"1\" class=\"dataframe\">\n",
       "  <thead>\n",
       "    <tr style=\"text-align: right;\">\n",
       "      <th></th>\n",
       "      <th>y</th>\n",
       "      <th>prob</th>\n",
       "      <th>pred</th>\n",
       "      <th>0</th>\n",
       "      <th>1</th>\n",
       "      <th>2</th>\n",
       "      <th>3</th>\n",
       "      <th>4</th>\n",
       "      <th>5</th>\n",
       "      <th>6</th>\n",
       "      <th>...</th>\n",
       "      <th>2842</th>\n",
       "      <th>2843</th>\n",
       "      <th>2844</th>\n",
       "      <th>2845</th>\n",
       "      <th>2846</th>\n",
       "      <th>2847</th>\n",
       "      <th>2848</th>\n",
       "      <th>2849</th>\n",
       "      <th>2850</th>\n",
       "      <th>2851</th>\n",
       "    </tr>\n",
       "  </thead>\n",
       "  <tbody>\n",
       "    <tr>\n",
       "      <th>0</th>\n",
       "      <td>0</td>\n",
       "      <td>0.458521</td>\n",
       "      <td>0</td>\n",
       "      <td>0</td>\n",
       "      <td>0</td>\n",
       "      <td>0</td>\n",
       "      <td>0</td>\n",
       "      <td>0</td>\n",
       "      <td>0</td>\n",
       "      <td>0</td>\n",
       "      <td>...</td>\n",
       "      <td>1</td>\n",
       "      <td>1</td>\n",
       "      <td>1</td>\n",
       "      <td>1</td>\n",
       "      <td>1</td>\n",
       "      <td>1</td>\n",
       "      <td>1</td>\n",
       "      <td>1</td>\n",
       "      <td>1</td>\n",
       "      <td>1</td>\n",
       "    </tr>\n",
       "    <tr>\n",
       "      <th>1</th>\n",
       "      <td>0</td>\n",
       "      <td>0.505037</td>\n",
       "      <td>0</td>\n",
       "      <td>0</td>\n",
       "      <td>0</td>\n",
       "      <td>0</td>\n",
       "      <td>0</td>\n",
       "      <td>0</td>\n",
       "      <td>0</td>\n",
       "      <td>0</td>\n",
       "      <td>...</td>\n",
       "      <td>1</td>\n",
       "      <td>1</td>\n",
       "      <td>1</td>\n",
       "      <td>1</td>\n",
       "      <td>1</td>\n",
       "      <td>1</td>\n",
       "      <td>1</td>\n",
       "      <td>1</td>\n",
       "      <td>1</td>\n",
       "      <td>1</td>\n",
       "    </tr>\n",
       "    <tr>\n",
       "      <th>2</th>\n",
       "      <td>0</td>\n",
       "      <td>0.418652</td>\n",
       "      <td>0</td>\n",
       "      <td>0</td>\n",
       "      <td>0</td>\n",
       "      <td>0</td>\n",
       "      <td>0</td>\n",
       "      <td>0</td>\n",
       "      <td>0</td>\n",
       "      <td>0</td>\n",
       "      <td>...</td>\n",
       "      <td>1</td>\n",
       "      <td>1</td>\n",
       "      <td>1</td>\n",
       "      <td>1</td>\n",
       "      <td>1</td>\n",
       "      <td>1</td>\n",
       "      <td>1</td>\n",
       "      <td>1</td>\n",
       "      <td>1</td>\n",
       "      <td>1</td>\n",
       "    </tr>\n",
       "    <tr>\n",
       "      <th>3</th>\n",
       "      <td>0</td>\n",
       "      <td>0.412057</td>\n",
       "      <td>0</td>\n",
       "      <td>0</td>\n",
       "      <td>0</td>\n",
       "      <td>0</td>\n",
       "      <td>0</td>\n",
       "      <td>0</td>\n",
       "      <td>0</td>\n",
       "      <td>0</td>\n",
       "      <td>...</td>\n",
       "      <td>1</td>\n",
       "      <td>1</td>\n",
       "      <td>1</td>\n",
       "      <td>1</td>\n",
       "      <td>1</td>\n",
       "      <td>1</td>\n",
       "      <td>1</td>\n",
       "      <td>1</td>\n",
       "      <td>1</td>\n",
       "      <td>1</td>\n",
       "    </tr>\n",
       "    <tr>\n",
       "      <th>4</th>\n",
       "      <td>0</td>\n",
       "      <td>0.375579</td>\n",
       "      <td>0</td>\n",
       "      <td>0</td>\n",
       "      <td>0</td>\n",
       "      <td>0</td>\n",
       "      <td>0</td>\n",
       "      <td>0</td>\n",
       "      <td>0</td>\n",
       "      <td>0</td>\n",
       "      <td>...</td>\n",
       "      <td>1</td>\n",
       "      <td>1</td>\n",
       "      <td>1</td>\n",
       "      <td>1</td>\n",
       "      <td>1</td>\n",
       "      <td>1</td>\n",
       "      <td>1</td>\n",
       "      <td>1</td>\n",
       "      <td>1</td>\n",
       "      <td>1</td>\n",
       "    </tr>\n",
       "    <tr>\n",
       "      <th>...</th>\n",
       "      <td>...</td>\n",
       "      <td>...</td>\n",
       "      <td>...</td>\n",
       "      <td>...</td>\n",
       "      <td>...</td>\n",
       "      <td>...</td>\n",
       "      <td>...</td>\n",
       "      <td>...</td>\n",
       "      <td>...</td>\n",
       "      <td>...</td>\n",
       "      <td>...</td>\n",
       "      <td>...</td>\n",
       "      <td>...</td>\n",
       "      <td>...</td>\n",
       "      <td>...</td>\n",
       "      <td>...</td>\n",
       "      <td>...</td>\n",
       "      <td>...</td>\n",
       "      <td>...</td>\n",
       "      <td>...</td>\n",
       "      <td>...</td>\n",
       "    </tr>\n",
       "    <tr>\n",
       "      <th>2847</th>\n",
       "      <td>1</td>\n",
       "      <td>0.491663</td>\n",
       "      <td>1</td>\n",
       "      <td>0</td>\n",
       "      <td>0</td>\n",
       "      <td>0</td>\n",
       "      <td>0</td>\n",
       "      <td>0</td>\n",
       "      <td>0</td>\n",
       "      <td>0</td>\n",
       "      <td>...</td>\n",
       "      <td>1</td>\n",
       "      <td>1</td>\n",
       "      <td>1</td>\n",
       "      <td>1</td>\n",
       "      <td>1</td>\n",
       "      <td>1</td>\n",
       "      <td>1</td>\n",
       "      <td>1</td>\n",
       "      <td>1</td>\n",
       "      <td>1</td>\n",
       "    </tr>\n",
       "    <tr>\n",
       "      <th>2848</th>\n",
       "      <td>1</td>\n",
       "      <td>0.292109</td>\n",
       "      <td>1</td>\n",
       "      <td>0</td>\n",
       "      <td>0</td>\n",
       "      <td>0</td>\n",
       "      <td>0</td>\n",
       "      <td>0</td>\n",
       "      <td>0</td>\n",
       "      <td>0</td>\n",
       "      <td>...</td>\n",
       "      <td>1</td>\n",
       "      <td>1</td>\n",
       "      <td>1</td>\n",
       "      <td>1</td>\n",
       "      <td>1</td>\n",
       "      <td>1</td>\n",
       "      <td>1</td>\n",
       "      <td>1</td>\n",
       "      <td>1</td>\n",
       "      <td>1</td>\n",
       "    </tr>\n",
       "    <tr>\n",
       "      <th>2849</th>\n",
       "      <td>1</td>\n",
       "      <td>0.659161</td>\n",
       "      <td>1</td>\n",
       "      <td>0</td>\n",
       "      <td>0</td>\n",
       "      <td>0</td>\n",
       "      <td>0</td>\n",
       "      <td>0</td>\n",
       "      <td>0</td>\n",
       "      <td>0</td>\n",
       "      <td>...</td>\n",
       "      <td>1</td>\n",
       "      <td>1</td>\n",
       "      <td>1</td>\n",
       "      <td>1</td>\n",
       "      <td>1</td>\n",
       "      <td>1</td>\n",
       "      <td>1</td>\n",
       "      <td>1</td>\n",
       "      <td>1</td>\n",
       "      <td>1</td>\n",
       "    </tr>\n",
       "    <tr>\n",
       "      <th>2850</th>\n",
       "      <td>1</td>\n",
       "      <td>0.456265</td>\n",
       "      <td>1</td>\n",
       "      <td>0</td>\n",
       "      <td>0</td>\n",
       "      <td>0</td>\n",
       "      <td>0</td>\n",
       "      <td>0</td>\n",
       "      <td>0</td>\n",
       "      <td>0</td>\n",
       "      <td>...</td>\n",
       "      <td>1</td>\n",
       "      <td>1</td>\n",
       "      <td>1</td>\n",
       "      <td>1</td>\n",
       "      <td>1</td>\n",
       "      <td>1</td>\n",
       "      <td>1</td>\n",
       "      <td>1</td>\n",
       "      <td>1</td>\n",
       "      <td>1</td>\n",
       "    </tr>\n",
       "    <tr>\n",
       "      <th>2851</th>\n",
       "      <td>1</td>\n",
       "      <td>0.659161</td>\n",
       "      <td>1</td>\n",
       "      <td>0</td>\n",
       "      <td>0</td>\n",
       "      <td>0</td>\n",
       "      <td>0</td>\n",
       "      <td>0</td>\n",
       "      <td>0</td>\n",
       "      <td>0</td>\n",
       "      <td>...</td>\n",
       "      <td>1</td>\n",
       "      <td>1</td>\n",
       "      <td>1</td>\n",
       "      <td>1</td>\n",
       "      <td>1</td>\n",
       "      <td>1</td>\n",
       "      <td>1</td>\n",
       "      <td>1</td>\n",
       "      <td>1</td>\n",
       "      <td>1</td>\n",
       "    </tr>\n",
       "  </tbody>\n",
       "</table>\n",
       "<p>2852 rows × 2855 columns</p>\n",
       "</div>"
      ],
      "text/plain": [
       "      y      prob  pred  0  1  2  3  4  5  6  ...  2842  2843  2844  2845  \\\n",
       "0     0  0.458521     0  0  0  0  0  0  0  0  ...     1     1     1     1   \n",
       "1     0  0.505037     0  0  0  0  0  0  0  0  ...     1     1     1     1   \n",
       "2     0  0.418652     0  0  0  0  0  0  0  0  ...     1     1     1     1   \n",
       "3     0  0.412057     0  0  0  0  0  0  0  0  ...     1     1     1     1   \n",
       "4     0  0.375579     0  0  0  0  0  0  0  0  ...     1     1     1     1   \n",
       "...  ..       ...   ... .. .. .. .. .. .. ..  ...   ...   ...   ...   ...   \n",
       "2847  1  0.491663     1  0  0  0  0  0  0  0  ...     1     1     1     1   \n",
       "2848  1  0.292109     1  0  0  0  0  0  0  0  ...     1     1     1     1   \n",
       "2849  1  0.659161     1  0  0  0  0  0  0  0  ...     1     1     1     1   \n",
       "2850  1  0.456265     1  0  0  0  0  0  0  0  ...     1     1     1     1   \n",
       "2851  1  0.659161     1  0  0  0  0  0  0  0  ...     1     1     1     1   \n",
       "\n",
       "      2846  2847  2848  2849  2850  2851  \n",
       "0        1     1     1     1     1     1  \n",
       "1        1     1     1     1     1     1  \n",
       "2        1     1     1     1     1     1  \n",
       "3        1     1     1     1     1     1  \n",
       "4        1     1     1     1     1     1  \n",
       "...    ...   ...   ...   ...   ...   ...  \n",
       "2847     1     1     1     1     1     1  \n",
       "2848     1     1     1     1     1     1  \n",
       "2849     1     1     1     1     1     1  \n",
       "2850     1     1     1     1     1     1  \n",
       "2851     1     1     1     1     1     1  \n",
       "\n",
       "[2852 rows x 2855 columns]"
      ]
     },
     "execution_count": 25,
     "metadata": {},
     "output_type": "execute_result"
    }
   ],
   "source": [
    " # write your code for task C\n",
    "df_c[\"pred\"] = np.where(df_c[\"y\"]<0.5,0,1)\n",
    "df_c\n",
    "thresholds = list(df_c[\"prob\"])\n",
    "thresholds.sort(reverse = True) \n",
    "for i in range(len(thresholds)):\n",
    "    df_c[i] = np.where(df_c[\"prob\"]>thresholds[i],1,0) \n",
    "df_c"
   ]
  },
  {
   "cell_type": "code",
   "execution_count": 70,
   "metadata": {},
   "outputs": [],
   "source": [
    "#FALSE NEGATIVE: if label = 1 and predicted = 0\n",
    "#FALSE POSITIVE: if label = 0 and predicted = 1\n",
    "points_dict = dict()\n",
    "points_list = []\n",
    "for i in range(len(thresholds)):\n",
    "    fn = len(df_c[(df_c[\"y\"] == 1) & (df_c[i] == 0)])\n",
    "    fp = len(df_c[(df_c[\"y\"] == 0) & (df_c[i] == 1)])\n",
    "    points_list.append((fn,fp))\n",
    "#points_list ---> list of tuples, where each tuples contains false negatives, false positives pair\n",
    "\n"
   ]
  },
  {
   "cell_type": "code",
   "execution_count": 71,
   "metadata": {},
   "outputs": [],
   "source": [
    "for k in range(len(thresholds)):\n",
    "    points_dict[k] = points_list[k]\n",
    "#points_dict ---> dictiory with threshold as key and (false negative, false positive) as value"
   ]
  },
  {
   "cell_type": "code",
   "execution_count": 72,
   "metadata": {},
   "outputs": [],
   "source": [
    "A = []\n",
    "all_dict = dict()\n",
    "for j in range(len(points_dict)):\n",
    "    value = points_dict[j][0]*500 + points_dict[j][1]*100\n",
    "    A.append(value)\n",
    "    all_dict[A[j]] = (points_dict[j][0],points_dict[j][1]) #dictionary with points as key and function as value\n",
    "#all_dict ---> dictionary with function (500*falsenegative + 1--*falsepositive) as key \n",
    "#(false negative, false positive) as value\n",
    "\n"
   ]
  },
  {
   "cell_type": "code",
   "execution_count": 73,
   "metadata": {},
   "outputs": [
    {
     "name": "stdout",
     "output_type": "stream",
     "text": [
      "{141000: (78, 1020)}\n"
     ]
    }
   ],
   "source": [
    "min_dict = dict()\n",
    "min_value = min(all_dict)\n",
    "for key,value in all_dict.items():\n",
    "    if key == min_value:\n",
    "        min_dict[key] = all_dict[key]\n",
    "print(min_dict)\n",
    "#min_dict ---> dictionary that contians the minimum value for function (500*falsenegative + 1--*falsepositive) as key\n",
    "#correspoinding (false negative, false positive) as value\n",
    "#NOTE: FALSE NEGATIVE MUST BE PENALIZED MORE, HENCE FALSE NEGATIVE<FALSE POSITIVE"
   ]
  },
  {
   "cell_type": "code",
   "execution_count": 74,
   "metadata": {},
   "outputs": [],
   "source": [
    "final_dict = dict()\n",
    "for key,value in points_dict.items():\n",
    "    final_dict[value] = key\n",
    "#final_dict ---> dictionary after interchaing key and value of points dict  \n"
   ]
  },
  {
   "cell_type": "code",
   "execution_count": 75,
   "metadata": {},
   "outputs": [
    {
     "data": {
      "text/plain": [
       "1989"
      ]
     },
     "execution_count": 75,
     "metadata": {},
     "output_type": "execute_result"
    }
   ],
   "source": [
    "final_dict.get((78,1020)) #getting the index of threshold corresponding to the (false negative, false positive)"
   ]
  },
  {
   "cell_type": "code",
   "execution_count": 76,
   "metadata": {},
   "outputs": [
    {
     "name": "stdout",
     "output_type": "stream",
     "text": [
      "MINIMUM VALUE =  141000\n",
      "THRESHLOD THAT YIELDS THE MINIMUM VALUE FOR THE GIVEN FUNCTION = 0.22987164436159915\n"
     ]
    }
   ],
   "source": [
    "print(\"MINIMUM VALUE = \",min_value)\n",
    "print(\"THRESHLOD THAT YIELDS THE MINIMUM VALUE FOR THE GIVEN FUNCTION =\", thresholds[1989])"
   ]
  },
  {
   "cell_type": "markdown",
   "metadata": {
    "id": "sD4CcgjXQvoL"
   },
   "source": [
    "\n",
    "## D.</b></font> Compute performance metrics(for regression) for the given data 5_d.csv\n",
    "<pre>    <b>Note 2:</b> use pandas or numpy to read the data from <b>5_d.csv</b>\n",
    "    <b>Note 1:</b> <b>5_d.csv</b> will having two columns Y and predicted_Y both are real valued features\n",
    "<ol>\n",
    "<li> Compute Mean Square Error </li>\n",
    "<li> Compute MAPE: https://www.youtube.com/watch?v=ly6ztgIkUxk</li>\n",
    "<li> Compute R^2 error: https://en.wikipedia.org/wiki/Coefficient_of_determination#Definitions </li>\n",
    "</ol>\n",
    "</pre>"
   ]
  },
  {
   "cell_type": "code",
   "execution_count": 47,
   "metadata": {
    "id": "sVOj-bF9AfCd"
   },
   "outputs": [
    {
     "data": {
      "text/html": [
       "<div>\n",
       "<style scoped>\n",
       "    .dataframe tbody tr th:only-of-type {\n",
       "        vertical-align: middle;\n",
       "    }\n",
       "\n",
       "    .dataframe tbody tr th {\n",
       "        vertical-align: top;\n",
       "    }\n",
       "\n",
       "    .dataframe thead th {\n",
       "        text-align: right;\n",
       "    }\n",
       "</style>\n",
       "<table border=\"1\" class=\"dataframe\">\n",
       "  <thead>\n",
       "    <tr style=\"text-align: right;\">\n",
       "      <th></th>\n",
       "      <th>y</th>\n",
       "      <th>pred</th>\n",
       "    </tr>\n",
       "  </thead>\n",
       "  <tbody>\n",
       "    <tr>\n",
       "      <th>0</th>\n",
       "      <td>101.0</td>\n",
       "      <td>100.0</td>\n",
       "    </tr>\n",
       "    <tr>\n",
       "      <th>1</th>\n",
       "      <td>120.0</td>\n",
       "      <td>100.0</td>\n",
       "    </tr>\n",
       "    <tr>\n",
       "      <th>2</th>\n",
       "      <td>131.0</td>\n",
       "      <td>113.0</td>\n",
       "    </tr>\n",
       "    <tr>\n",
       "      <th>3</th>\n",
       "      <td>164.0</td>\n",
       "      <td>125.0</td>\n",
       "    </tr>\n",
       "    <tr>\n",
       "      <th>4</th>\n",
       "      <td>154.0</td>\n",
       "      <td>152.0</td>\n",
       "    </tr>\n",
       "  </tbody>\n",
       "</table>\n",
       "</div>"
      ],
      "text/plain": [
       "       y   pred\n",
       "0  101.0  100.0\n",
       "1  120.0  100.0\n",
       "2  131.0  113.0\n",
       "3  164.0  125.0\n",
       "4  154.0  152.0"
      ]
     },
     "execution_count": 47,
     "metadata": {},
     "output_type": "execute_result"
    }
   ],
   "source": [
    "df_d=pd.read_csv('5_d.csv')\n",
    "df_d.head()"
   ]
  },
  {
   "cell_type": "code",
   "execution_count": 48,
   "metadata": {
    "id": "uRhL1pheAfCe"
   },
   "outputs": [],
   "source": [
    " # write your code for task 5d\n",
    "#Mean square error\n",
    "n = len(df_d)"
   ]
  },
  {
   "cell_type": "code",
   "execution_count": 49,
   "metadata": {},
   "outputs": [
    {
     "name": "stdout",
     "output_type": "stream",
     "text": [
      "MEAN SQUARE ERROR =  -177.16569974554707\n"
     ]
    }
   ],
   "source": [
    "y = list(df_d[\"y\"])\n",
    "y_hat = list(df_d[\"pred\"])\n",
    "square_error_list = []\n",
    "for i in range(len(y)):\n",
    "    res = (y[i]-y_hat[i])**2\n",
    "    square_error_list.append(res)\n",
    "mean_square_error = -(1/n) * sum(square_error_list)\n",
    "print(\"MEAN SQUARE ERROR = \", mean_square_error)"
   ]
  },
  {
   "cell_type": "code",
   "execution_count": 50,
   "metadata": {},
   "outputs": [
    {
     "name": "stdout",
     "output_type": "stream",
     "text": [
      "MEAN ABSOLUTE PERCENTAGE ERROR = 12.91202994009687\n"
     ]
    }
   ],
   "source": [
    "#Mean Absolute Percentage Error\n",
    "#MAPE = (-1/n) summation{mod(ei/y)}, where ei = y-y_hat (actual - predicted)\n",
    "# Here it is possible that the denomitor can take a value zero\n",
    "# For this case we modify it\n",
    "# Modified_MAPE = (mod(e1) +mod(e2)+ ...... + mod(en))/(y1+y2+.............+yn)\n",
    "a = sum(y)\n",
    "MAPE_error_list = []\n",
    "for i in range(len(y)):\n",
    "    errors = abs(y[i] - y_hat[i])\n",
    "    MAPE_error_list.append(errors)\n",
    "MAPE = sum(MAPE_error_list)/a\n",
    "print(\"MEAN ABSOLUTE PERCENTAGE ERROR =\",MAPE*100)\n",
    "    "
   ]
  },
  {
   "cell_type": "code",
   "execution_count": 51,
   "metadata": {},
   "outputs": [],
   "source": [
    "#R^2 error\n",
    "y_bar = sum(y)/n\n",
    "e_list = []\n",
    "for i in range(len(y_hat)):\n",
    "    e = (y_bar - y_hat[i])**2\n",
    "    e_list.append(e)\n",
    "SS_total = sum(e_list)"
   ]
  },
  {
   "cell_type": "code",
   "execution_count": 52,
   "metadata": {},
   "outputs": [],
   "source": [
    "SS_residue_list = []\n",
    "for i in range(len(y)):\n",
    "    residues = (y[i] - y_hat[i])**2\n",
    "    SS_residue_list.append(residues)\n",
    "SS_residue = sum(SS_residue_list)"
   ]
  },
  {
   "cell_type": "code",
   "execution_count": 53,
   "metadata": {},
   "outputs": [
    {
     "name": "stdout",
     "output_type": "stream",
     "text": [
      "R^2 = 0.9544134826849505\n"
     ]
    }
   ],
   "source": [
    "R_square = 1 - (SS_residue/SS_total)\n",
    "print(\"R^2 =\",R_square)"
   ]
  }
 ],
 "metadata": {
  "colab": {
   "collapsed_sections": [],
   "name": "5_Performance_metrics_Instructions.ipynb",
   "provenance": []
  },
  "kernelspec": {
   "display_name": "Python 3",
   "language": "python",
   "name": "python3"
  },
  "language_info": {
   "codemirror_mode": {
    "name": "ipython",
    "version": 3
   },
   "file_extension": ".py",
   "mimetype": "text/x-python",
   "name": "python",
   "nbconvert_exporter": "python",
   "pygments_lexer": "ipython3",
   "version": "3.7.6"
  }
 },
 "nbformat": 4,
 "nbformat_minor": 1
}
